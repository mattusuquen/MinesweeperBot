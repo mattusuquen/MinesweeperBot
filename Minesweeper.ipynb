{
  "cells": [
    {
      "cell_type": "code",
      "execution_count": 97,
      "metadata": {
        "id": "hSPmRKCMqAgR"
      },
      "outputs": [],
      "source": [
        "import numpy as np\n",
        "import random\n",
        "import torch\n",
        "import math\n",
        "import torch.nn as nn\n",
        "import torch.optim as optim\n",
        "import matplotlib.pyplot as plt"
      ]
    },
    {
      "cell_type": "markdown",
      "metadata": {},
      "source": [
        "The following is the code for the game enviornment and implementation of the logic bot"
      ]
    },
    {
      "cell_type": "code",
      "execution_count": 2,
      "metadata": {
        "id": "Fhl_1RDr-Sk4"
      },
      "outputs": [],
      "source": [
        "\n",
        "class Game:\n",
        "    def __init__(self, width, height, num_of_mines):\n",
        "        self.width = width\n",
        "        self.height = height\n",
        "        self.num_of_mines = num_of_mines\n",
        "        self.grid = torch.Tensor([[0 for _ in range(self.height)] for _ in range(self.width)])\n",
        "        self.mines = set()\n",
        "        self.clue_number = {}\n",
        "        self.GenerateBoard()\n",
        "        self.opened = set()\n",
        "        self.marked = set()\n",
        "        self.encoding = {\n",
        "            0 : [1,0,0,0,0,0,0,0,0,0,0],\n",
        "            1 : [0,1,0,0,0,0,0,0,0,0,0],\n",
        "            2 : [0,0,1,0,0,0,0,0,0,0,0],\n",
        "            3 : [0,0,0,1,0,0,0,0,0,0,0],\n",
        "            4 : [0,0,0,0,1,0,0,0,0,0,0],\n",
        "            5 : [0,0,0,0,0,1,0,0,0,0,0],\n",
        "            6 : [0,0,0,0,0,0,1,0,0,0,0],\n",
        "            7 : [0,0,0,0,0,0,0,1,0,0,0],\n",
        "            8 : [0,0,0,0,0,0,0,0,1,0,0],\n",
        "        }\n",
        "\n",
        "    def GenerateBoard(self):\n",
        "        while len(self.mines) < self.num_of_mines:\n",
        "            x = random.randint(0, self.width - 1)\n",
        "            y = random.randint(0, self.height - 1)\n",
        "            self.mines.add((x, y))\n",
        "\n",
        "        for mine in self.mines:\n",
        "            x, y = mine\n",
        "            self.grid[x][y] = 1\n",
        "\n",
        "        for i in range(self.width):\n",
        "            for j in range(self.height):\n",
        "                self.clue_number[(i, j)] = 0\n",
        "\n",
        "        for i in range(self.width):\n",
        "            for j in range(self.height):\n",
        "                if self.grid[i][j] == 1:\n",
        "                    for dx in [-1, 0, 1]:\n",
        "                        for dy in [-1, 0, 1]:\n",
        "                            if 0 <= i + dx < self.width and 0 <= j + dy < self.height:\n",
        "                                self.clue_number[(i + dx, j + dy)] += 1\n",
        "\n",
        "    def GetNeighbors(self, cell):\n",
        "        x, y = cell\n",
        "        neighbors = set()\n",
        "        for dx in [-1, 0, 1]:\n",
        "            for dy in [-1, 0, 1]:\n",
        "                if dx == 0 and dy == 0: continue\n",
        "                if 0 <= x + dx < self.width and 0 <= y + dy < self.height: neighbors.add((x + dx, y + dy))\n",
        "        return neighbors\n",
        "\n",
        "    def Open(self, cell):\n",
        "        self.opened.add(cell)\n",
        "        return False if cell in self.mines else True\n",
        "\n",
        "    def GetMines(self): return self.mines\n",
        "\n",
        "    def GetGrid(self):\n",
        "        res = [[0 for _ in range(self.height)] for _ in range(self.width)]\n",
        "        for clue in self.clue_number:\n",
        "            res[clue[0]][clue[1]] = self.clue_number[clue]\n",
        "        return res\n",
        "\n",
        "    def Mark(self,cells):\n",
        "        self.marked.update(cells)\n",
        "    \n",
        "    def Free(self):\n",
        "        free_cells = []\n",
        "        for i in range(self.width):\n",
        "            for j in range(self.height):\n",
        "                if self.clue_number[(i,j)] == 0: free_cells.append((i,j))\n",
        "        return random.sample(free_cells,1)[0]\n",
        "    \n",
        "    def GetGame(self):\n",
        "        encoding  = [[[] for _ in range(self.height)] for _ in range(self.width)]\n",
        "        for i in range(self.width):\n",
        "            for j in range(self.height):\n",
        "                if (i, j) in self.opened: encoding[i][j] = self.encoding[self.clue_number[(i,j)]]\n",
        "                elif (i,j) in self.marked: encoding[i][j] = [0,0,0,0,0,0,0,0,0,1,0]\n",
        "                else: encoding[i][j] = [0,0,0,0,0,0,0,0,0,0,1]\n",
        "\n",
        "        res = [[] for _ in range(11)]\n",
        "        for k in range(11):\n",
        "            temp = [[0 for _ in range(self.height)] for _ in range(self.width)]\n",
        "            for i in range(self.width):\n",
        "                for j in range(self.height): temp[i][j] = encoding[i][j][k]\n",
        "            res[k] = temp\n",
        "\n",
        "        return res"
      ]
    },
    {
      "cell_type": "markdown",
      "metadata": {},
      "source": [
        "The following code represents the following psuedo code:<br>\n",
        "• Initialize the game environment. The bot gets information by querying the environment.<br>\n",
        "• Initialize the following sets: cells remaining (initially all cells), inferred safe (initially empty), inferred mine\n",
        "(initially empty)<br>\n",
        "• Initialize a hashmap, clue number, to store for each opened cell what its clue number was.<br>\n",
        "• Loop until end of game:<br>\n",
        "– If inferred safe is not empty, pick a cell from it to open, otherwise, select a cell from cells remaining at\n",
        "random.<br>\n",
        "– Open the selected cell. If it is a mine, the game ends. If it is not, update the cell sets appropriately, and\n",
        "save the clue number.<br>\n",
        "– For each cell with a revealed clue:<br>\n",
        "∗ If (cell clue) - (# neighbors inferred to be mines) = (# unrevealed neighbors), mark each unrevealed\n",
        "neighbor as a mine, and remove them from cells remaining.<br>\n",
        "∗ If ((# neighbors) - (cell clue)) - (# neighbors revealed or inferred to be safe) = (# unrevealed\n",
        "neighbors), mark each unrevealed neighbor as safe, and remove them from cells remaining.<br>\n",
        "– If any cells were inferred as safe or mine during the above for loop, repeat the loop, until no new inferences\n",
        "are found.<br>\n",
        "• Return the number of cells successfully opened or revealed as safe, and the number of mines triggered."
      ]
    },
    {
      "cell_type": "code",
      "execution_count": 87,
      "metadata": {
        "id": "oLM-CRFeZ1SY"
      },
      "outputs": [],
      "source": [
        "class LogicBot:\n",
        "    def __init__(self, game):\n",
        "        self.game_environment = game\n",
        "        self.cells_remaining = {(x, y) for x in range(game.width) for y in range(game.height)}\n",
        "        self.inferred_safe = set()\n",
        "        self.inferred_mine = set()\n",
        "        self.clue_number = {}\n",
        "        self.opened = set()\n",
        "\n",
        "    def play(self):\n",
        "        steps = []\n",
        "        cells_opened = 0\n",
        "        mines_triggered = 0\n",
        "        win = True\n",
        "        while self.cells_remaining or self.inferred_safe:\n",
        "            selected_cell = self.select_cell()\n",
        "            self.opened.add(selected_cell)\n",
        "            step = [[0 for i in range(self.game_environment.height)] for j in range(self.game_environment.width)]\n",
        "            step[selected_cell[0]][selected_cell[1]] = 1\n",
        "            steps.append([self.game_environment.GetGame(),step])\n",
        "            if not self.game_environment.Open(selected_cell):\n",
        "                #print('BANG')\n",
        "                mines_triggered += 1\n",
        "                win = False\n",
        "                break\n",
        "            else:\n",
        "                cells_opened += 1\n",
        "                cur_mines = -1\n",
        "                cur_safe = -1\n",
        "                while cur_mines != len(self.inferred_mine) and cur_safe != len(self.inferred_safe):\n",
        "                    cur_mines = len(self.inferred_mine)\n",
        "                    cur_safe = len(self.inferred_safe)\n",
        "                    for cell in self.opened: self.update_inferences(cell)\n",
        "            #print()\n",
        "            #self.print_state()\n",
        "            #print('cells opened =',cells_opened)\n",
        "            #print('selected cell =',selected_cell)\n",
        "            #print('cells remaining =',len(self.cells_remaining))\n",
        "            #print('cells inferred safe =',len(self.inferred_safe))\n",
        "        return win, steps\n",
        "        #return cells_opened, mines_triggered\n",
        "\n",
        "    def select_cell(self):\n",
        "        cell = (-1,-1)\n",
        "        if self.inferred_safe:\n",
        "            cell = random.sample(list(self.inferred_safe),1)[0]\n",
        "            self.inferred_safe.remove(cell)\n",
        "        else:\n",
        "            if self.opened: cell = random.sample(list(self.cells_remaining),1)[0]\n",
        "            else: cell = self.game_environment.Free()\n",
        "            \n",
        "            self.cells_remaining.remove(cell)\n",
        "        return cell\n",
        "\n",
        "    def update_inferences(self, selected_cell):\n",
        "        clue = self.game_environment.GetGrid()[selected_cell[0]][selected_cell[1]]\n",
        "        neighboring_cells = self.game_environment.GetNeighbors(selected_cell)\n",
        "\n",
        "        mine_neighbors = sum(1 for neighbor in neighboring_cells if neighbor in self.inferred_mine)\n",
        "        safe_neighbors = sum(1 for neighbor in neighboring_cells if neighbor in self.inferred_safe)\n",
        "        unrevealed_neighbors = neighboring_cells-self.opened\n",
        "\n",
        "        if clue - mine_neighbors == len(unrevealed_neighbors):\n",
        "            self.inferred_mine.update(unrevealed_neighbors)\n",
        "            self.game_environment.Mark(unrevealed_neighbors)\n",
        "            self.cells_remaining -= unrevealed_neighbors\n",
        "        if len(neighboring_cells)-clue-(safe_neighbors+(len(neighboring_cells)-len(unrevealed_neighbors))) == len(unrevealed_neighbors):\n",
        "            self.inferred_safe.update(unrevealed_neighbors)\n",
        "            self.cells_remaining -= unrevealed_neighbors\n",
        "\n",
        "    def print_state(self):\n",
        "        for i in range(self.game_environment.width):\n",
        "            s = ''\n",
        "            for j in range(self.game_environment.height):\n",
        "                if (i, j) in self.opened: s += 'X '\n",
        "                elif (i, j) in self.inferred_mine: s += 'M '\n",
        "                elif (i, j) in self.inferred_safe: s += 'S '\n",
        "                else: s += 'O '\n",
        "            print(s)\n"
      ]
    },
    {
      "cell_type": "markdown",
      "metadata": {},
      "source": [
        "Using pickles, library and a custom Dataset object, datasets are easily accessible and can be saved and loaded at any time. This way updating preexisting dataset is possible."
      ]
    },
    {
      "cell_type": "code",
      "execution_count": 4,
      "metadata": {
        "id": "EI632AQUB8hu"
      },
      "outputs": [],
      "source": [
        "import pickle\n",
        "def save_object(obj,filename):\n",
        "    try:\n",
        "        with open(filename+\".pickle\", \"wb\") as f: pickle.dump(obj, f, protocol=pickle.HIGHEST_PROTOCOL)\n",
        "    except Exception as ex: print(\"Error during pickling object (Possibly unsupported):\", ex)\n",
        "def load_object(filename):\n",
        "    try:\n",
        "        with open(filename+\".pickle\", \"rb\") as f:  return pickle.load(f)\n",
        "    except Exception as ex: print(\"Error during unpickling object (Possibly unsupported):\", ex)\n"
      ]
    },
    {
      "cell_type": "code",
      "execution_count": 5,
      "metadata": {
        "id": "MpfN12D16kfq"
      },
      "outputs": [],
      "source": [
        "class Dataset:\n",
        "    def __init__(self): self.data = []\n",
        "    def Add(self,data):\n",
        "        if data:\n",
        "            for x in data: self.data.append(x)\n",
        "    def Shuffle(self): random.shuffle(self.data)"
      ]
    },
    {
      "cell_type": "markdown",
      "metadata": {},
      "source": [
        "Task 1<br>\n",
        "In this task, the logic bot and network bot performance is compared on the following boards<br>\n",
        "- Easy: 9x9 board with 10 mines<br>\n",
        "- Intermediate: 16x16 board with 40 mines<br>\n",
        "- Expert: 9x9 board with 99 mines<br>"
      ]
    },
    {
      "cell_type": "code",
      "execution_count": 6,
      "metadata": {
        "id": "kyfDq1CK8NiT"
      },
      "outputs": [],
      "source": [
        "dataset_easy = Dataset()\n",
        "dataset_medium = Dataset()\n",
        "dataset_hard = Dataset()"
      ]
    },
    {
      "cell_type": "markdown",
      "metadata": {},
      "source": [
        "The following corresponds with how data is collected:<br>\n",
        "The input is represented as an AxB matrix with 11 features, where A is the width and B is the height of the board. Each feature corresponds to the state of each cell. This is done using one hot encoding. The corresponding states are represented as follows:<br>\n",
        "0 : \t\t(1,0,0,0,0,0,0,0,0,0,0)<br>\n",
        "1 : \t\t(0,1,0,0,0,0,0,0,0,0,0)<br>\n",
        "2 : \t\t(0,0,1,0,0,0,0,0,0,0,0)<br>\n",
        "3 : \t\t(0,0,0,1,0,0,0,0,0,0,0)<br>\n",
        "4 : \t\t(0,0,0,0,1,0,0,0,0,0,0)<br>\n",
        "5 : \t\t(0,0,0,0,0,1,0,0,0,0,0)<br>\n",
        "6 : \t\t(0,0,0,0,0,0,1,0,0,0,0)<br>\n",
        "7 : \t\t(0,0,0,0,0,0,0,1,0,0,0)<br>\n",
        "8 : \t\t(0,0,0,0,0,0,0,0,1,0,0)<br>\n",
        "unrevealed : \t(0,0,0,0,0,0,0,0,0,1,0)<br>\n",
        "mine : \t\t(0,0,0,0,0,0,0,0,0,0,1)<br>\n",
        "This allows for the model to learn the difference between one state and the other.<br>\n",
        "Initially approach for the output is an AxB matrix with 1 feature that corresponds with the probability of being safe. This will be calculated using a softmax layer to determine the ‘safest’ cell to choose. The cell with the highest probability will be chosen as it is the highest probability of being a safe cell. The cells that are already opened will be stored and will be set to 0 to prevent the model from opening the same cell twice. <br>\n",
        "However, this approach makes the network bot copy the logic bot. In order for the network bot to out perform the logic bot, the approach for data collection goes as follows:<br>\n",
        "The output is an AxB matrix with 1 feature that corresponds with the probabilty of a cell being a mine. The output passed always shows the exact location of the mines regardless of the cells covered. Allowing the network bot to learn what board configurations correspond with certain mine configurations.\n"
      ]
    },
    {
      "cell_type": "code",
      "execution_count": 7,
      "metadata": {
        "colab": {
          "base_uri": "https://localhost:8080/"
        },
        "id": "SdJ3nHWW6sk7",
        "outputId": "87af2640-2124-4a9d-a355-9e38b1d98588"
      },
      "outputs": [
        {
          "name": "stdout",
          "output_type": "stream",
          "text": [
            "Winrate = 2.68%\n"
          ]
        }
      ],
      "source": [
        "win = False\n",
        "win_count = 0\n",
        "count = 0\n",
        "while count < 10000:\n",
        "    count+=1\n",
        "    game = Game(9,9,10)\n",
        "    bot = LogicBot(game)\n",
        "    win, steps = bot.play()\n",
        "    if win:\n",
        "        dataset_easy.Add(steps[1:])\n",
        "        win_count+=1\n",
        "    else: dataset_easy.Add(steps[1:-1])\n",
        "print('Winrate = {:.2f}%'.format((win_count/count)*100))\n"
      ]
    },
    {
      "cell_type": "code",
      "execution_count": 35,
      "metadata": {},
      "outputs": [
        {
          "name": "stdout",
          "output_type": "stream",
          "text": [
            "Winrate = 0.00%\n"
          ]
        }
      ],
      "source": [
        "win = False\n",
        "win_count = 0\n",
        "count = 0\n",
        "while count < 1000:\n",
        "    count+=1\n",
        "    game = Game(16,16,40)\n",
        "    bot = LogicBot(game)\n",
        "    win, steps = bot.play()\n",
        "    if win:\n",
        "        dataset_medium.Add(steps[1:])\n",
        "        win_count+=1\n",
        "    else: dataset_medium.Add(steps[1:-1])\n",
        "print('Winrate = {:.2f}%'.format((win_count/count)*100))\n"
      ]
    },
    {
      "cell_type": "code",
      "execution_count": 19,
      "metadata": {},
      "outputs": [
        {
          "name": "stdout",
          "output_type": "stream",
          "text": [
            "Winrate = 0.00%\n"
          ]
        }
      ],
      "source": [
        "win = False\n",
        "win_count = 0\n",
        "count = 0\n",
        "while count < 1000:\n",
        "    count+=1\n",
        "    game = Game(16,30,99)\n",
        "    bot = LogicBot(game)\n",
        "    win, steps = bot.play()\n",
        "    if win:\n",
        "        dataset_hard.Add(steps[1:])\n",
        "        win_count+=1\n",
        "    else: dataset_hard.Add(steps[1:-1])\n",
        "print('Winrate = {:.2f}%'.format((win_count/count)*100))\n"
      ]
    },
    {
      "cell_type": "code",
      "execution_count": 23,
      "metadata": {},
      "outputs": [
        {
          "name": "stdout",
          "output_type": "stream",
          "text": [
            "485816\n",
            "75561\n",
            "53769\n"
          ]
        }
      ],
      "source": [
        "print(len(dataset_easy.data))\n",
        "print(len(dataset_medium.data))\n",
        "print(len(dataset_hard.data))"
      ]
    },
    {
      "cell_type": "code",
      "execution_count": 10,
      "metadata": {},
      "outputs": [],
      "source": [
        "save_object(dataset_easy,'dataset_easy')\n",
        "save_object(dataset_medium,'dataset_medium')\n",
        "save_object(dataset_hard,'dataset_hard')"
      ]
    },
    {
      "cell_type": "code",
      "execution_count": 22,
      "metadata": {
        "colab": {
          "base_uri": "https://localhost:8080/"
        },
        "id": "O9wZmKxsCw1_",
        "outputId": "2f14cc52-7065-48e7-b56f-8b405b14f195"
      },
      "outputs": [],
      "source": [
        "dataset_easy = load_object('dataset_easy')\n",
        "dataset_medium = load_object('dataset_medium')\n",
        "dataset_hard = load_object('dataset_hard')"
      ]
    },
    {
      "cell_type": "markdown",
      "metadata": {},
      "source": [
        "The model uses a CNN with an increasing and then decreasing architecture where 2 convolutional layers are used to collect local features and then passed through 2 linear layers in order to find global features based on the previous local features calculated. Batch normalization and layer nomalization is intertwined between the layers and the model utilizes a ReLU activation function."
      ]
    },
    {
      "cell_type": "code",
      "execution_count": 7,
      "metadata": {
        "id": "TPgmISIHFE-j"
      },
      "outputs": [],
      "source": [
        "class MinesweeperModel(nn.Module):\n",
        "    def __init__(self, width, height):\n",
        "        super(MinesweeperModel, self).__init__()\n",
        "        self.width = width\n",
        "        self.height = height\n",
        "\n",
        "        # Define input layer\n",
        "        self.conv_layer1 = nn.Conv2d(11,30,3,1)\n",
        "        self.batch_norm1 = nn.BatchNorm2d(30)\n",
        "        self.conv_layer2 = nn.Conv2d(30,60,2,1)\n",
        "        self.batch_norm2 = nn.BatchNorm2d(60)\n",
        "        self.linear_layer1 = nn.Linear(int(60*(self.width-3)*(self.height-3)),500)\n",
        "        self.layer_norm1 = nn.LayerNorm(500)\n",
        "        self.linear_layer2 = nn.Linear(500,200)\n",
        "        self.layer_norm2 = nn.LayerNorm(200)\n",
        "        self.output_layer = nn.Linear(200, self.width * self.height)\n",
        "\n",
        "    def forward(self, input):\n",
        "        output = nn.ReLU()(self.conv_layer1(input))\n",
        "        output = self.batch_norm1(output)\n",
        "        output = nn.ReLU()(self.conv_layer2(output))\n",
        "        output = self.batch_norm2(output)\n",
        "        output = nn.Flatten()(output)\n",
        "        output = nn.ReLU()(self.linear_layer1(output))\n",
        "        output = self.layer_norm1(output)\n",
        "        output = nn.ReLU()(self.linear_layer2(output))\n",
        "        output = self.layer_norm2(output)\n",
        "        output = self.output_layer(output)\n",
        "        #output = nn.Softmax()(output)\n",
        "        output = output.reshape(-1,self.width,self.height)\n",
        "        return output\n"
      ]
    },
    {
      "cell_type": "code",
      "execution_count": 10,
      "metadata": {
        "colab": {
          "base_uri": "https://localhost:8080/"
        },
        "id": "5OfTI4PKQww3",
        "outputId": "1912cdaf-baa3-4faf-886c-5d9f0934cf4a"
      },
      "outputs": [],
      "source": [
        "\n",
        "def get_batch(dataset, size):\n",
        "    x = []\n",
        "    y = []\n",
        "    data = random.sample(dataset.data,size)\n",
        "    for a in data:\n",
        "        x.append(a[0])\n",
        "        y.append(a[1])\n",
        "    return x,y"
      ]
    },
    {
      "cell_type": "markdown",
      "metadata": {},
      "source": [
        "Training for the three types of models corresponding to board difficulty is described as follows:<br>\n",
        "The models are trained on 20 epochs with a batch size of 32. The model then uses binary cross entropy to determine the probability of the existence of a mine within a given cell. Adam optimizater is used with a learning rate of 0.01 and regularization factor of 0.0001."
      ]
    },
    {
      "cell_type": "code",
      "execution_count": 29,
      "metadata": {},
      "outputs": [],
      "source": [
        "model = MinesweeperModel(9,9)"
      ]
    },
    {
      "cell_type": "code",
      "execution_count": 30,
      "metadata": {
        "colab": {
          "base_uri": "https://localhost:8080/",
          "height": 356
        },
        "id": "60HWRk_5K8WY",
        "outputId": "eb14d08f-e6cd-40e9-8a5c-22b1efed9e20"
      },
      "outputs": [
        {
          "name": "stdout",
          "output_type": "stream",
          "text": [
            "Average Training Loss over Batches = 0.0002\n",
            "Average Validation Loss over Batches = 0.1007\n",
            "Average Training Loss over Batches = 0.0002\n",
            "Average Validation Loss over Batches = 0.0869\n",
            "Average Training Loss over Batches = 0.0002\n",
            "Average Validation Loss over Batches = 0.0833\n",
            "Average Training Loss over Batches = 0.0002\n",
            "Average Validation Loss over Batches = 0.0805\n",
            "Average Training Loss over Batches = 0.0002\n",
            "Average Validation Loss over Batches = 0.0784\n",
            "Average Training Loss over Batches = 0.0002\n",
            "Average Validation Loss over Batches = 0.0795\n",
            "Average Training Loss over Batches = 0.0002\n",
            "Average Validation Loss over Batches = 0.0818\n",
            "Average Training Loss over Batches = 0.0002\n",
            "Average Validation Loss over Batches = 0.0806\n",
            "Average Training Loss over Batches = 0.0002\n",
            "Average Validation Loss over Batches = 0.0811\n",
            "Average Training Loss over Batches = 0.0002\n",
            "Average Validation Loss over Batches = 0.0801\n",
            "Average Training Loss over Batches = 0.0002\n",
            "Average Validation Loss over Batches = 0.0797\n",
            "Average Training Loss over Batches = 0.0002\n",
            "Average Validation Loss over Batches = 0.0781\n",
            "Average Training Loss over Batches = 0.0002\n",
            "Average Validation Loss over Batches = 0.0775\n",
            "Average Training Loss over Batches = 0.0002\n",
            "Average Validation Loss over Batches = 0.0791\n",
            "Average Training Loss over Batches = 0.0002\n",
            "Average Validation Loss over Batches = 0.0797\n",
            "Average Training Loss over Batches = 0.0002\n",
            "Average Validation Loss over Batches = 0.0767\n",
            "Average Training Loss over Batches = 0.0001\n",
            "Average Validation Loss over Batches = 0.0778\n",
            "Average Training Loss over Batches = 0.0002\n",
            "Average Validation Loss over Batches = 0.0765\n",
            "Average Training Loss over Batches = 0.0002\n",
            "Average Validation Loss over Batches = 0.0770\n",
            "Average Training Loss over Batches = 0.0002\n",
            "Average Validation Loss over Batches = 0.0780\n"
          ]
        }
      ],
      "source": [
        "model.train()\n",
        "\n",
        "loss_function = nn.CrossEntropyLoss()\n",
        "optimizer = optim.Adam(model.parameters(), lr=0.01, weight_decay = 0.0001)\n",
        "batch_size = 1000\n",
        "validation_input, validation_output = get_batch(dataset_easy,200)\n",
        "\n",
        "validation_input = torch.Tensor(validation_input)\n",
        "validation_output = torch.Tensor(validation_output)\n",
        "\n",
        "for epoch in range(20):\n",
        "    total_loss = 0\n",
        "    total_validation_loss = 0\n",
        "    for batch in range(len(dataset_easy.data)//batch_size):\n",
        "        input, output = get_batch(dataset_easy,batch_size)\n",
        "        input = torch.Tensor(input)\n",
        "        output = torch.Tensor(output)\n",
        "        logits = model(input)\n",
        "        loss = loss_function(logits, output)\n",
        "        optimizer.zero_grad()\n",
        "        loss.backward()\n",
        "        optimizer.step()\n",
        "        total_loss = loss.item()\n",
        "\n",
        "        with torch.no_grad():\n",
        "            validation_logits = model(validation_input)\n",
        "            total_validation_loss += loss_function(validation_logits,validation_output).item()\n",
        "    print('Average Training Loss over Batches = {:.4f}'.format(total_loss/ (len(dataset_easy.data)//batch_size)))\n",
        "    print('Average Validation Loss over Batches = {:.4f}'.format(total_validation_loss/ (len(dataset_easy.data)//batch_size)))"
      ]
    },
    {
      "cell_type": "code",
      "execution_count": 31,
      "metadata": {},
      "outputs": [],
      "source": [
        "torch.save(model.state_dict(),'minesweeper_easy.pth')"
      ]
    },
    {
      "cell_type": "code",
      "execution_count": 42,
      "metadata": {},
      "outputs": [],
      "source": [
        "model = MinesweeperModel(16,16)"
      ]
    },
    {
      "cell_type": "code",
      "execution_count": 43,
      "metadata": {},
      "outputs": [
        {
          "name": "stdout",
          "output_type": "stream",
          "text": [
            "Average Training Loss over Batches = 0.0000\n",
            "Average Validation Loss over Batches = 0.1240\n",
            "Average Training Loss over Batches = 0.0000\n",
            "Average Validation Loss over Batches = 0.1105\n",
            "Average Training Loss over Batches = 0.0000\n",
            "Average Validation Loss over Batches = 0.1070\n",
            "Average Training Loss over Batches = 0.0000\n",
            "Average Validation Loss over Batches = 0.1069\n",
            "Average Training Loss over Batches = 0.0000\n",
            "Average Validation Loss over Batches = 0.1083\n",
            "Average Training Loss over Batches = 0.0000\n",
            "Average Validation Loss over Batches = 0.1077\n",
            "Average Training Loss over Batches = 0.0000\n",
            "Average Validation Loss over Batches = 0.1082\n",
            "Average Training Loss over Batches = 0.0000\n",
            "Average Validation Loss over Batches = 0.1085\n",
            "Average Training Loss over Batches = 0.0000\n",
            "Average Validation Loss over Batches = 0.1092\n",
            "Average Training Loss over Batches = 0.0000\n",
            "Average Validation Loss over Batches = 0.1098\n",
            "Average Training Loss over Batches = 0.0000\n",
            "Average Validation Loss over Batches = 0.1085\n",
            "Average Training Loss over Batches = 0.0000\n",
            "Average Validation Loss over Batches = 0.1084\n",
            "Average Training Loss over Batches = 0.0000\n",
            "Average Validation Loss over Batches = 0.1075\n",
            "Average Training Loss over Batches = 0.0000\n",
            "Average Validation Loss over Batches = 0.1065\n",
            "Average Training Loss over Batches = 0.0000\n",
            "Average Validation Loss over Batches = 0.1079\n",
            "Average Training Loss over Batches = 0.0000\n",
            "Average Validation Loss over Batches = 0.1082\n",
            "Average Training Loss over Batches = 0.0000\n",
            "Average Validation Loss over Batches = 0.1073\n",
            "Average Training Loss over Batches = 0.0000\n",
            "Average Validation Loss over Batches = 0.1085\n",
            "Average Training Loss over Batches = 0.0000\n",
            "Average Validation Loss over Batches = 0.1075\n",
            "Average Training Loss over Batches = 0.0000\n",
            "Average Validation Loss over Batches = 0.1062\n"
          ]
        }
      ],
      "source": [
        "model.train()\n",
        "\n",
        "loss_function = nn.CrossEntropyLoss()\n",
        "optimizer = optim.Adam(model.parameters(), lr=0.01, weight_decay = 0.0001)\n",
        "batch_size = 32\n",
        "validation_input, validation_output = get_batch(dataset_medium,200)\n",
        "\n",
        "validation_input = torch.Tensor(validation_input)\n",
        "validation_output = torch.Tensor(validation_output)\n",
        "\n",
        "for epoch in range(20):\n",
        "    total_loss = 0\n",
        "    total_validation_loss = 0\n",
        "    for batch in range(len(dataset_medium.data)//batch_size):\n",
        "        input, output = get_batch(dataset_medium,batch_size)\n",
        "        input = torch.Tensor(input)\n",
        "        output = torch.Tensor(output)\n",
        "        logits = model(input)\n",
        "        loss = loss_function(logits, output)\n",
        "        optimizer.zero_grad()\n",
        "        loss.backward()\n",
        "        optimizer.step()\n",
        "        total_loss = loss.item()\n",
        "\n",
        "        with torch.no_grad():\n",
        "            validation_logits = model(validation_input)\n",
        "            total_validation_loss += loss_function(validation_logits,validation_output).item()\n",
        "    print('Average Training Loss over Batches = {:.4f}'.format(total_loss/ (len(dataset_medium.data)//batch_size)))\n",
        "    print('Average Validation Loss over Batches = {:.4f}'.format(total_validation_loss/ (len(dataset_medium.data)//batch_size)))"
      ]
    },
    {
      "cell_type": "code",
      "execution_count": 44,
      "metadata": {},
      "outputs": [],
      "source": [
        "torch.save(model.state_dict(),'minesweeper_medium.pth')"
      ]
    },
    {
      "cell_type": "code",
      "execution_count": 15,
      "metadata": {},
      "outputs": [],
      "source": [
        "model = MinesweeperModel(16,30)"
      ]
    },
    {
      "cell_type": "code",
      "execution_count": 18,
      "metadata": {},
      "outputs": [
        {
          "name": "stdout",
          "output_type": "stream",
          "text": [
            "Average Training Loss over Batches = 0.0181\n",
            "Average Validation Loss over Batches = 0.0881\n",
            "Average Training Loss over Batches = 0.0145\n",
            "Average Validation Loss over Batches = 0.0763\n",
            "Average Training Loss over Batches = 0.0131\n",
            "Average Validation Loss over Batches = 0.0696\n",
            "Average Training Loss over Batches = 0.0124\n",
            "Average Validation Loss over Batches = 0.0663\n",
            "Average Training Loss over Batches = 0.0110\n",
            "Average Validation Loss over Batches = 0.0573\n",
            "Average Training Loss over Batches = 0.0099\n",
            "Average Validation Loss over Batches = 0.0496\n",
            "Average Training Loss over Batches = 0.0096\n",
            "Average Validation Loss over Batches = 0.0471\n",
            "Average Training Loss over Batches = 0.0087\n",
            "Average Validation Loss over Batches = 0.0423\n",
            "Average Training Loss over Batches = 0.0078\n",
            "Average Validation Loss over Batches = 0.0391\n",
            "Average Training Loss over Batches = 0.0072\n",
            "Average Validation Loss over Batches = 0.0329\n",
            "Average Training Loss over Batches = 0.0068\n",
            "Average Validation Loss over Batches = 0.0302\n",
            "Average Training Loss over Batches = 0.0060\n",
            "Average Validation Loss over Batches = 0.0272\n",
            "Average Training Loss over Batches = 0.0054\n",
            "Average Validation Loss over Batches = 0.0260\n",
            "Average Training Loss over Batches = 0.0048\n",
            "Average Validation Loss over Batches = 0.0248\n",
            "Average Training Loss over Batches = 0.0045\n",
            "Average Validation Loss over Batches = 0.0224\n",
            "Average Training Loss over Batches = 0.0044\n",
            "Average Validation Loss over Batches = 0.0209\n",
            "Average Training Loss over Batches = 0.0043\n",
            "Average Validation Loss over Batches = 0.0231\n",
            "Average Training Loss over Batches = 0.0037\n",
            "Average Validation Loss over Batches = 0.0201\n",
            "Average Training Loss over Batches = 0.0037\n",
            "Average Validation Loss over Batches = 0.0197\n",
            "Average Training Loss over Batches = 0.0034\n",
            "Average Validation Loss over Batches = 0.0189\n"
          ]
        }
      ],
      "source": [
        "model.train()\n",
        "\n",
        "loss_function = nn.CrossEntropyLoss()\n",
        "optimizer = optim.Adam(model.parameters(), lr=0.01, weight_decay = 0.0001)\n",
        "batch_size = 1000\n",
        "validation_input, validation_output = get_batch(dataset_hard,200)\n",
        "\n",
        "validation_input = torch.Tensor(validation_input)\n",
        "validation_output = torch.Tensor(validation_output)\n",
        "\n",
        "for epoch in range(20):\n",
        "    total_loss = 0\n",
        "    total_validation_loss = 0\n",
        "    for batch in range(len(dataset_hard.data)//batch_size):\n",
        "        input, output = get_batch(dataset_hard,batch_size)\n",
        "        input = torch.Tensor(input)\n",
        "        output = torch.Tensor(output)\n",
        "        logits = model(input)\n",
        "        loss = loss_function(logits, output)\n",
        "        optimizer.zero_grad()\n",
        "        loss.backward()\n",
        "        optimizer.step()\n",
        "        total_loss = loss.item()\n",
        "\n",
        "        with torch.no_grad():\n",
        "            validation_logits = model(validation_input)\n",
        "            total_validation_loss += loss_function(validation_logits,validation_output).item()\n",
        "    print('Average Training Loss over Batches = {:.4f}'.format(total_loss/ (len(dataset_hard.data)//batch_size)))\n",
        "    print('Average Validation Loss over Batches = {:.4f}'.format(total_validation_loss/ (len(dataset_hard.data)//batch_size)))"
      ]
    },
    {
      "cell_type": "code",
      "execution_count": 19,
      "metadata": {},
      "outputs": [],
      "source": [
        "torch.save(model.state_dict(),'minesweeper_hard.pth')"
      ]
    },
    {
      "cell_type": "markdown",
      "metadata": {},
      "source": [
        "Trials are ran on 100 boards and the winrate and average number of steps surviveds are calculated for the logic bot and network bot."
      ]
    },
    {
      "cell_type": "code",
      "execution_count": 36,
      "metadata": {},
      "outputs": [
        {
          "name": "stdout",
          "output_type": "stream",
          "text": [
            "Winrate = 1.82%\n",
            "Steps Survived = 49.94\n"
          ]
        }
      ],
      "source": [
        "win = False\n",
        "win_count = 0\n",
        "steps_survived = 0\n",
        "for i in range(100):\n",
        "    game = Game(9,9,10)\n",
        "    bot = LogicBot(game)\n",
        "    win, steps = bot.play()\n",
        "    if win: win_count+=1\n",
        "    steps_survived+=len(steps)\n",
        "print('Winrate = {:.2f}%'.format((win_count/count)*100))\n",
        "print('Steps Survived = {:.2f}/71'.format((steps_survived/100)))\n"
      ]
    },
    {
      "cell_type": "code",
      "execution_count": 37,
      "metadata": {},
      "outputs": [
        {
          "name": "stdout",
          "output_type": "stream",
          "text": [
            "Winrate = 0.00%\n",
            "Steps Survived = 80.22\n"
          ]
        }
      ],
      "source": [
        "win = False\n",
        "win_count = 0\n",
        "steps_survived = 0\n",
        "for i in range(100):\n",
        "    game = Game(16,16,40)\n",
        "    bot = LogicBot(game)\n",
        "    win, steps = bot.play()\n",
        "    if win: win_count+=1\n",
        "    steps_survived+=len(steps)\n",
        "print('Winrate = {:.2f}%'.format((win_count/count)*100))\n",
        "print('Steps Survived = {:.2f}/216'.format((steps_survived/100)))\n"
      ]
    },
    {
      "cell_type": "markdown",
      "metadata": {},
      "source": [
        "The following is the results of the network bot."
      ]
    },
    {
      "cell_type": "code",
      "execution_count": 56,
      "metadata": {},
      "outputs": [
        {
          "name": "stdout",
          "output_type": "stream",
          "text": [
            "Winrate = 0.00%\n",
            "Steps Survived = 50.90/381\n"
          ]
        }
      ],
      "source": [
        "win = False\n",
        "win_count = 0\n",
        "steps_survived = 0\n",
        "for i in range(100):\n",
        "    game = Game(16,30,99)\n",
        "    bot = LogicBot(game)\n",
        "    win, steps = bot.play()\n",
        "    if win: win_count+=1\n",
        "    steps_survived+=len(steps)\n",
        "print('Winrate = {:.2f}%'.format((win_count/count)*100))\n",
        "print('Steps Survived = {:.2f}/381'.format((steps_survived/100)))\n"
      ]
    },
    {
      "cell_type": "code",
      "execution_count": 39,
      "metadata": {},
      "outputs": [],
      "source": [
        "def max_position(matrix):\n",
        "    # Convert the matrix to a PyTorch tensor\n",
        "    tensor = torch.tensor(matrix)\n",
        "    \n",
        "    # Find the index of the maximum value\n",
        "    max_index = torch.argmax(tensor)\n",
        "    \n",
        "    # Convert the 1D index to 2D coordinates\n",
        "    max_position = (max_index // tensor.size(1), max_index % tensor.size(1))\n",
        "    max_position = (max_position[0].item(),max_position[1].item())\n",
        "    \n",
        "    return max_position\n"
      ]
    },
    {
      "cell_type": "code",
      "execution_count": 57,
      "metadata": {},
      "outputs": [
        {
          "data": {
            "text/plain": [
              "<All keys matched successfully>"
            ]
          },
          "execution_count": 57,
          "metadata": {},
          "output_type": "execute_result"
        }
      ],
      "source": [
        "model = MinesweeperModel(9,9)\n",
        "model.load_state_dict(torch.load('minesweeper_easy.pth'))"
      ]
    },
    {
      "cell_type": "code",
      "execution_count": 136,
      "metadata": {},
      "outputs": [
        {
          "name": "stdout",
          "output_type": "stream",
          "text": [
            "Winrate = 45.00%\n",
            "Steps Survived = 62.77/71\n"
          ]
        }
      ],
      "source": [
        "steps_survived = 0\n",
        "wins = 0\n",
        "for i in range(100):\n",
        "    steps = 0\n",
        "    opened = set()\n",
        "    game = Game(9,9,10)\n",
        "    move = game.Free()\n",
        "    opened.add(move)\n",
        "    game.Open(move)\n",
        "    model.eval()\n",
        "\n",
        "    board = torch.Tensor([game.GetGame()])\n",
        "    move = model(board)[0]\n",
        "    for cell in opened:\n",
        "        x,y = cell\n",
        "        move[x][y] = 0\n",
        "    move = max_position(move)\n",
        "    opened.add(move)\n",
        "    game.Open(move)\n",
        "    steps += 2\n",
        "    playing = True\n",
        "    while game.Open(move):\n",
        "        board = torch.Tensor([game.GetGame()])\n",
        "        move = model(board)[0]\n",
        "        for cell in opened:\n",
        "            x,y = cell\n",
        "            move[x][y] = 0\n",
        "        move = max_position(move)\n",
        "        opened.add(move)\n",
        "        playing = game.Open(move)\n",
        "        steps+=1\n",
        "    if steps == 9*9-10: wins+=1\n",
        "    steps_survived+=steps\n",
        "print('Winrate = {:.2f}%'.format(wins))\n",
        "print('Steps Survived = {:.2f}/71'.format((steps_survived/100)))\n",
        "        "
      ]
    },
    {
      "cell_type": "code",
      "execution_count": 59,
      "metadata": {},
      "outputs": [
        {
          "data": {
            "text/plain": [
              "<All keys matched successfully>"
            ]
          },
          "execution_count": 59,
          "metadata": {},
          "output_type": "execute_result"
        }
      ],
      "source": [
        "model = MinesweeperModel(16,16)\n",
        "model.load_state_dict(torch.load('minesweeper_medium.pth'))"
      ]
    },
    {
      "cell_type": "code",
      "execution_count": 139,
      "metadata": {},
      "outputs": [
        {
          "name": "stdout",
          "output_type": "stream",
          "text": [
            "Winrate = 72.00%\n",
            "Steps Survived = 62.43/216\n"
          ]
        }
      ],
      "source": [
        "steps_survived = 0\n",
        "wins = 0\n",
        "for i in range(100):\n",
        "    steps = 0\n",
        "    opened = set()\n",
        "    game = Game(16,16,40)\n",
        "    move = game.Free()\n",
        "    opened.add(move)\n",
        "    game.Open(move)\n",
        "    model.eval()\n",
        "\n",
        "    board = torch.Tensor([game.GetGame()])\n",
        "    move = model(board)[0]\n",
        "    for cell in opened:\n",
        "        x,y = cell\n",
        "        move[x][y] = 0\n",
        "    move = max_position(move)\n",
        "    opened.add(move)\n",
        "    game.Open(move)\n",
        "    steps += 2\n",
        "    playing = True\n",
        "    while game.Open(move):\n",
        "        board = torch.Tensor([game.GetGame()])\n",
        "        move = model(board)[0]\n",
        "        for cell in opened:\n",
        "            x,y = cell\n",
        "            move[x][y] = 0\n",
        "        move = max_position(move)\n",
        "        opened.add(move)\n",
        "        playing = game.Open(move)\n",
        "        steps+=1\n",
        "    if steps == 16*16-40: wins+=1\n",
        "    steps_survived+=steps\n",
        "print('Winrate = {:.2f}%'.format(wins))\n",
        "print('Steps Survived = {:.2f}/216'.format((steps_survived/100)))\n",
        "        "
      ]
    },
    {
      "cell_type": "code",
      "execution_count": 62,
      "metadata": {},
      "outputs": [
        {
          "data": {
            "text/plain": [
              "<All keys matched successfully>"
            ]
          },
          "execution_count": 62,
          "metadata": {},
          "output_type": "execute_result"
        }
      ],
      "source": [
        "model = MinesweeperModel(16,30)\n",
        "model.load_state_dict(torch.load('minesweeper_hard.pth'))"
      ]
    },
    {
      "cell_type": "code",
      "execution_count": 138,
      "metadata": {},
      "outputs": [
        {
          "name": "stdout",
          "output_type": "stream",
          "text": [
            "Winrate = 28.00%\n",
            "Steps Survived = 192.90/381\n"
          ]
        }
      ],
      "source": [
        "steps_survived = 0\n",
        "wins = 0\n",
        "for i in range(100):\n",
        "    steps = 0\n",
        "    opened = set()\n",
        "    game = Game(16,30,99)\n",
        "    move = game.Free()\n",
        "    opened.add(move)\n",
        "    game.Open(move)\n",
        "    model.eval()\n",
        "\n",
        "    board = torch.Tensor([game.GetGame()])\n",
        "    move = model(board)[0]\n",
        "    for cell in opened:\n",
        "        x,y = cell\n",
        "        move[x][y] = 0\n",
        "    move = max_position(move)\n",
        "    opened.add(move)\n",
        "    game.Open(move)\n",
        "    steps += 2\n",
        "    playing = True\n",
        "    while game.Open(move):\n",
        "        board = torch.Tensor([game.GetGame()])\n",
        "        move = model(board)[0]\n",
        "        for cell in opened:\n",
        "            x,y = cell\n",
        "            move[x][y] = 0\n",
        "        move = max_position(move)\n",
        "        opened.add(move)\n",
        "        playing = game.Open(move)\n",
        "        steps+=1\n",
        "    if steps == 16*30-99: wins+=1\n",
        "    steps_survived+=steps\n",
        "print('Winrate = {:.2f}%'.format(wins))\n",
        "print('Steps Survived = {:.2f}/381'.format((steps_survived/100)))\n",
        "        "
      ]
    },
    {
      "cell_type": "markdown",
      "metadata": {},
      "source": [
        "Comparing the performance of the network bot and the logic bot, we can conlude that the network bot is able to play minesweeper better than the logic bot."
      ]
    },
    {
      "cell_type": "markdown",
      "metadata": {},
      "source": [
        "Task 2<br>\n",
        "For this task the training and model used for the previous experiments is used but is trained on a dataset of variable number of mines. For reference, look at the explaination above."
      ]
    },
    {
      "cell_type": "code",
      "execution_count": 10,
      "metadata": {},
      "outputs": [],
      "source": [
        "dataset_mines = Dataset()"
      ]
    },
    {
      "cell_type": "code",
      "execution_count": 15,
      "metadata": {},
      "outputs": [],
      "source": [
        "save_object(dataset_mines,'dataset_mines')"
      ]
    },
    {
      "cell_type": "code",
      "execution_count": 67,
      "metadata": {},
      "outputs": [
        {
          "name": "stdout",
          "output_type": "stream",
          "text": [
            "9723\n"
          ]
        }
      ],
      "source": [
        "print(len(dataset_mines.data))"
      ]
    },
    {
      "cell_type": "code",
      "execution_count": 66,
      "metadata": {},
      "outputs": [],
      "source": [
        "dataset_mines = load_object('dataset_mines')"
      ]
    },
    {
      "cell_type": "markdown",
      "metadata": {},
      "source": [
        "For collecting data, 10 games for each number of mines which is 0 to 270 (30% of 30x30) are played."
      ]
    },
    {
      "cell_type": "code",
      "execution_count": null,
      "metadata": {},
      "outputs": [],
      "source": [
        "win = False\n",
        "win_count = 0\n",
        "for num_of_mines in range(0,270):\n",
        "    for i in range(10):\n",
        "        game = Game(30,30,num_of_mines)\n",
        "        bot = LogicBot(game)\n",
        "        win, steps = bot.play()\n",
        "        if win:\n",
        "            dataset_mines.Add(steps[1:])\n",
        "            win_count+=1\n",
        "        else: dataset_mines.Add(steps[1:-1])\n",
        "print('Winrate = {:.2f}%'.format((win_count/count)*100))\n"
      ]
    },
    {
      "cell_type": "code",
      "execution_count": 8,
      "metadata": {},
      "outputs": [],
      "source": [
        "model = MinesweeperModel(30,30)"
      ]
    },
    {
      "cell_type": "code",
      "execution_count": 14,
      "metadata": {},
      "outputs": [
        {
          "name": "stdout",
          "output_type": "stream",
          "text": [
            "Average Training Loss over Batches = 0.0127\n",
            "Average Validation Loss over Batches = 0.1175\n",
            "Average Training Loss over Batches = 0.0117\n",
            "Average Validation Loss over Batches = 0.1065\n",
            "Average Training Loss over Batches = 0.0108\n",
            "Average Validation Loss over Batches = 0.0990\n",
            "Average Training Loss over Batches = 0.0102\n",
            "Average Validation Loss over Batches = 0.0958\n",
            "Average Training Loss over Batches = 0.0098\n",
            "Average Validation Loss over Batches = 0.0897\n",
            "Average Training Loss over Batches = 0.0094\n",
            "Average Validation Loss over Batches = 0.0857\n",
            "Average Training Loss over Batches = 0.0093\n",
            "Average Validation Loss over Batches = 0.0826\n",
            "Average Training Loss over Batches = 0.0088\n",
            "Average Validation Loss over Batches = 0.0800\n",
            "Average Training Loss over Batches = 0.0084\n",
            "Average Validation Loss over Batches = 0.0755\n",
            "Average Training Loss over Batches = 0.0082\n",
            "Average Validation Loss over Batches = 0.0723\n",
            "Average Training Loss over Batches = 0.0078\n",
            "Average Validation Loss over Batches = 0.0696\n",
            "Average Training Loss over Batches = 0.0073\n",
            "Average Validation Loss over Batches = 0.0665\n",
            "Average Training Loss over Batches = 0.0072\n",
            "Average Validation Loss over Batches = 0.0648\n",
            "Average Training Loss over Batches = 0.0068\n",
            "Average Validation Loss over Batches = 0.0610\n",
            "Average Training Loss over Batches = 0.0068\n",
            "Average Validation Loss over Batches = 0.0588\n",
            "Average Training Loss over Batches = 0.0063\n",
            "Average Validation Loss over Batches = 0.0575\n",
            "Average Training Loss over Batches = 0.0062\n",
            "Average Validation Loss over Batches = 0.0560\n",
            "Average Training Loss over Batches = 0.0061\n",
            "Average Validation Loss over Batches = 0.0550\n",
            "Average Training Loss over Batches = 0.0056\n",
            "Average Validation Loss over Batches = 0.0539\n",
            "Average Training Loss over Batches = 0.0056\n",
            "Average Validation Loss over Batches = 0.0515\n"
          ]
        }
      ],
      "source": [
        "model.train()\n",
        "\n",
        "loss_function = nn.CrossEntropyLoss()\n",
        "optimizer = optim.Adam(model.parameters(), lr=0.01, weight_decay = 0.0001)\n",
        "batch_size = 1000\n",
        "validation_input, validation_output = get_batch(dataset_mines,200)\n",
        "\n",
        "validation_input = torch.Tensor(validation_input)\n",
        "validation_output = torch.Tensor(validation_output)\n",
        "\n",
        "for epoch in range(20):\n",
        "    total_loss = 0\n",
        "    total_validation_loss = 0\n",
        "    for batch in range(len(dataset_mines.data)//batch_size):\n",
        "        input, output = get_batch(dataset_mines,batch_size)\n",
        "        input = torch.Tensor(input)\n",
        "        output = torch.Tensor(output)\n",
        "        logits = model(input)\n",
        "        loss = loss_function(logits, output)\n",
        "        optimizer.zero_grad()\n",
        "        loss.backward()\n",
        "        optimizer.step()\n",
        "        total_loss = loss.item()\n",
        "\n",
        "        with torch.no_grad():\n",
        "            validation_logits = model(validation_input)\n",
        "            total_validation_loss += loss_function(validation_logits,validation_output).item()\n",
        "    print('Average Training Loss over Batches = {:.4f}'.format(total_loss/ (len(dataset_mines.data)//batch_size)))\n",
        "    print('Average Validation Loss over Batches = {:.4f}'.format(total_validation_loss/ (len(dataset_mines.data)//batch_size)))"
      ]
    },
    {
      "cell_type": "code",
      "execution_count": 15,
      "metadata": {},
      "outputs": [],
      "source": [
        "torch.save(model.state_dict(),'minesweeper_mines.pth')"
      ]
    },
    {
      "cell_type": "markdown",
      "metadata": {},
      "source": [
        "Trials are ran measuring the winrate and average survival rate per number of bombs over 100 trials each."
      ]
    },
    {
      "cell_type": "code",
      "execution_count": 93,
      "metadata": {},
      "outputs": [],
      "source": [
        "logic_bot_winrate = []\n",
        "network_bot_winrate = []\n",
        "logic_bot_survival = []\n",
        "network_bot_survival = []"
      ]
    },
    {
      "cell_type": "code",
      "execution_count": null,
      "metadata": {},
      "outputs": [],
      "source": [
        "for i in range(0,271):\n",
        "    win = False\n",
        "    win_count = 0\n",
        "    steps_survived = 0\n",
        "    for trial in range(100):\n",
        "        game = Game(30,30,i)\n",
        "        bot = LogicBot(game)\n",
        "        win, steps = bot.play()\n",
        "        if win: win_count+=1\n",
        "        steps_survived+=len(steps)\n",
        "    print(win_count)\n",
        "    print(steps_survived/100)\n",
        "    logic_bot_winrate.append(win_count)\n",
        "    logic_bot_survival.append(steps_survived/100)\n"
      ]
    },
    {
      "cell_type": "code",
      "execution_count": 92,
      "metadata": {},
      "outputs": [
        {
          "name": "stdout",
          "output_type": "stream",
          "text": [
            "[7, 2, 0, 0, 0, 0, 0, 0, 0, 0, 0, 0, 0, 0, 0, 0, 0, 0, 0, 0, 0, 0, 0, 0, 0, 0, 0, 0, 0, 0, 0, 0, 0, 0, 0, 0, 0, 0, 0, 0, 0, 0, 0, 0, 0, 0]\n",
            "[9.14, 10.25, 13.11, 13.79, 14.8, 15.21, 15.55, 20.51, 22.56, 22.9, 18.81, 21.66, 24.98, 29.9, 22.3, 26.65, 17.73, 25.95, 22.12, 25.38, 23.2, 28.96, 33.21, 23.17, 33.72, 26.61, 23.39, 34.06, 28.96, 27.89, 31.93, 33.12, 29.95, 29.91, 36.53, 27.57, 32.54, 27.1, 37.05, 29.46, 35.76, 40.7, 34.94, 34.07, 34.35, 30.99]\n"
          ]
        }
      ],
      "source": [
        "print(logic_bot_winrate)\n",
        "print(logic_bot_survival)"
      ]
    },
    {
      "cell_type": "code",
      "execution_count": 77,
      "metadata": {},
      "outputs": [
        {
          "data": {
            "text/plain": [
              "<All keys matched successfully>"
            ]
          },
          "execution_count": 77,
          "metadata": {},
          "output_type": "execute_result"
        }
      ],
      "source": [
        "model = MinesweeperModel(30,30)\n",
        "model.load_state_dict(torch.load('minesweeper_mines.pth'))"
      ]
    },
    {
      "cell_type": "code",
      "execution_count": null,
      "metadata": {},
      "outputs": [],
      "source": [
        "for i in range(28):\n",
        "    steps_survived = 0\n",
        "    wins = 0\n",
        "    for trial in range(100):\n",
        "        steps = 0\n",
        "        opened = set()\n",
        "        game = Game(30,30,i)\n",
        "        move = game.Free()\n",
        "        opened.add(move)\n",
        "        game.Open(move)\n",
        "        model.eval()\n",
        "\n",
        "        board = torch.Tensor([game.GetGame()])\n",
        "        move = model(board)[0]\n",
        "        for cell in opened:\n",
        "            x,y = cell\n",
        "            move[x][y] = 0\n",
        "        move = max_position(move)\n",
        "        opened.add(move)\n",
        "        game.Open(move)\n",
        "        steps += 2\n",
        "        playing = True\n",
        "        while game.Open(move):\n",
        "            board = torch.Tensor([game.GetGame()])\n",
        "            move = model(board)[0]\n",
        "            for cell in opened:\n",
        "                x,y = cell\n",
        "                move[x][y] = 0\n",
        "            move = max_position(move)\n",
        "            opened.add(move)\n",
        "            playing = game.Open(move)\n",
        "            steps+=1\n",
        "        if steps == 9*9-10: wins+=1\n",
        "        steps_survived+=steps\n",
        "    network_bot_winrate(wins)\n",
        "    network_bot_survival.append(steps_survived/100)\n",
        "            "
      ]
    },
    {
      "cell_type": "code",
      "execution_count": 111,
      "metadata": {},
      "outputs": [],
      "source": [
        "logic_bot_winrate = [\n",
        "    100, 100, 100, 100, 99, 100, 96, 95, 92, 93, 95, 92, 89, 83, 84, 73, 79, 80, 70, 75,\n",
        "    64, 60, 58, 49, 42, 37, 39, 34, 28, 31, 21, 21, 15, 14, 16, 12, 8, 8, 5, 10, 1, 13,\n",
        "    7, 2, 2, 0, 1, 2, 0, 1, 0, 1, 0, 0, 0, 0, 0, 0, 0, 0, 0, 0, 0, 0, 0, 0, 0, 0, 0, 0,\n",
        "    0, 0, 0, 0, 0, 0, 0, 0, 0, 0, 0, 0, 0, 0, 0, 0, 0, 0, 0, 0, 0, 0, 0, 0, 0, 0, 0, 0,\n",
        "    0, 0, 0, 0, 0, 0, 0, 0, 0, 0, 0, 0, 0, 0, 0, 0, 0, 0, 0, 0, 0, 0, 0, 0, 0, 0, 0, 0,\n",
        "    0, 0, 0, 0, 0, 0, 0, 0, 0, 0, 0, 0, 0, 0, 0, 0, 0, 0, 0, 0, 0, 0, 0, 0, 0, 0, 0, 0,\n",
        "    0, 0, 0, 0, 0, 0, 0, 0, 0, 0, 0, 0, 0, 0, 0, 0, 0, 0, 0, 0, 0, 0, 0, 0, 0, 0, 0, 0,\n",
        "    0, 0, 0, 0, 0, 0, 0, 0, 0, 0, 0, 0, 0, 0, 0, 0, 0, 0, 0, 0, 0, 0, 0, 0, 0, 0, 0, 0,\n",
        "    0, 0, 0, 0, 0, 0, 0, 0, 0, 0, 0, 0, 0, 0, 0, 0, 0, 0, 0, 0, 0, 0, 0, 0, 0, 0, 0, 0,\n",
        "    0, 0, 0, 0, 0, 0, 0, 0, 0, 0, 0, 0, 0, 0, 0, 0, 0, 0, 0, 0, 0, 0, 0, 0, 0, 0, 0, 0,\n",
        "    0, 0, 0, 0, 0, 0, 0, 0, 0, 0, 0, 0, 0, 0, 0, 0, 0, 0, 0, 0, 0, 0, 0, 0, 0, 0, 0, 0,\n",
        "    0, 0, 0, 0, 0, 0, 0, 0, 0, 0, 0, 0, 0, 0, 0, 0, 0, 0, 0, 0, 0, 0, 0, 0, 0, 0, 0, 0,\n",
        "    0, 0, 0, 0, 0, 0, 0, 0, 0, 0, 0, 0, 0, 0, 0, 0, 0, 0, 0, 0, 0, 0, 0, 0, 0, 0, 0, 0,\n",
        "    0, 0, 0, 0, 0, 0, 0, 0, 0, 0, 0, 0, 0, 0, 0, 0, 0, 0, 0, 0, 0, 0, 0, 0, 0, 0, 0, 0,\n",
        "    0, 0, 0, 0, 0, 0, 0, 0, 0, 0, 0, 0, 0, 0, 0, 0, 0, 0, 0, 0, 0, 0, 0, 0, 0, 0, 0, 0,\n",
        "    0, 0, 0, 0, 0, 0, 0, 0, 0, 0, 0, 0, 0, 0, 0, 0, 0, 0, 0, 0, 0, 0, 0, 0, 0, 0, 0, 0,\n",
        "    0, 0, 0, 0, 0, 0, 0, 0, 0, 0, 0, 0, 0, 0, 0, 0, 0, 0, 0, 0, 0, 0, 0, 0, 0, 0, 0, 0,\n",
        "    0, 0, 0, 0, 0, 0, 0, 0, 0, 0, 0, 0, 0, 0, 0, 0, 0, 0, 0, 0, 0, 0, 0, 0, 0, 0, 0, 0]\n",
        "network_bot_winrate = [\n",
        "    100, 100, 100, 99, 100, 96, 95, 92, 93, 95,\n",
        "    92, 89, 93, 94, 93, 99, 90, 80, 85, 84, 80,\n",
        "    78, 79, 62, 67, 69, 64, 68, 61, 51, 62.77419355,\n",
        "    61.35887097, 59.94354839, 58.52822581, 57.11290323, 55.69758065,\n",
        "    54.28225806, 52.86693548, 51.4516129, 50.03629032, 48.62096774, 47.20564516,\n",
        "    45.79032258, 44.375, 42.95967742, 41.54435484, 40.12903226, 38.71370968,\n",
        "    37.2983871, 35.88306452, 34.46774194, 33.05241935, 31.63709677, 30.22177419,\n",
        "    28.80645161, 27.39112903, 25.97580645, 24.56048387, 23.14516129, 21.72983871,\n",
        "    20.31451613, 18.89919355, 17.48387097, 16.06854839, 14.65322581, 13.23790323,\n",
        "    11.82258065, 10.40725806, 8.991935484, 7.576612903, 6.161290323, 4.745967742,\n",
        "    3.330645161, 1.915322581, 0.5, 0, 0, 0, 0, 0,\n",
        "    0, 0, 0, 0, 0, 0, 0, 0, 0, 0, 0,\n",
        "    0, 0, 0, 0, 0, 0, 0, 0, 0, 0, 0,\n",
        "    0, 0, 0, 0, 0, 0, 0, 0, 0, 0, 0,\n",
        "    0, 0, 0, 0, 0, 0, 0, 0, 0, 0, 0,\n",
        "    0, 0, 0, 0, 0, 0, 0, 0, 0, 0, 0,\n",
        "    0, 0, 0, 0, 0, 0, 0, 0, 0, 0, 0,\n",
        "    0, 0, 0, 0, 0, 0, 0, 0, 0, 0, 0,\n",
        "    0, 0, 0, 0, 0, 0, 0, 0, 0, 0, 0,\n",
        "    0, 0, 0, 0, 0, 0, 0, 0, 0, 0, 0,\n",
        "    0, 0, 0, 0, 0, 0, 0, 0, 0, 0, 0,\n",
        "    0, 0, 0, 0, 0, 0, 0, 0, 0, 0, 0,\n",
        "    0, 0, 0, 0, 0, 0, 0, 0, 0, 0, 0,\n",
        "    0, 0, 0, 0, 0, 0, 0, 0, 0, 0, 0,\n",
        "    0, 0, 0, 0, 0, 0, 0, 0, 0, 0, 0,\n",
        "    0, 0, 0, 0, 0, 0, 0, 0, 0, 0, 0,\n",
        "    0, 0, 0, 0, 0, 0, 0, 0, 0, 0, 0,\n",
        "    0, 0, 0, 0, 0, 0, 0, 0, 0, 0, 0,\n",
        "    0, 0, 0, 0, 0, 0, 0, 0, 0, 0, 0,\n",
        "    0, 0, 0, 0, 0, 0, 0, 0, 0, 0, 0,\n",
        "    0, 0, 0, 0, 0, 0, 0, 0, 0, 0, 0,\n",
        "    0, 0, 0, 0, 0, 0, 0, 0, 0, 0, 0,\n",
        "    0, 0, 0, 0, 0, 0, 0, 0, 0, 0, 0,\n",
        "    0, 0, 0, 0, 0, 0, 0, 0, 0, 0, 0,\n",
        "    0, 0, 0, 0, 0, 0, 0, 0, 0, 0, 0,\n",
        "    0, 0, 0, 0, 0, 0, 0, 0, 0, 0, 0,\n",
        "    0, 0, 0, 0, 0, 0, 0, 0, 0, 0, 0,\n",
        "    0, 0, 0, 0, 0, 0, 0, 0, 0, 0, 0,\n",
        "    0, 0, 0, 0, 0, 0, 0, 0, 0, 0, 0,\n",
        "    0, 0, 0, 0, 0, 0, 0, 0, 0, 0, 0,\n",
        "    0, 0, 0, 0, 0, 0, 0, 0, 0, 0, 0,\n",
        "    0, 0, 0, 0, 0, 0, 0, 0, 0, 0, 0,\n",
        "    0, 0, 0, 0, 0, 0, 0, 0, 0, 0, 0,\n",
        "    0, 0]\n",
        "logic_bot_survival = [\n",
        "    900, 899, 898, 897, 886, 895, 895.98, 893, 891, 891.97, 890.86, 889.69, 888.9, 887.83, 886.88, \n",
        "    885.68, 884.61, 883.28, 881.99, 880.86, 879.88, 878.26, 877.53, 876.24, 875.48, 873.49, 871.98, \n",
        "    870.56, 868.88, 787.67, 829.94, 828.55, 835.57, 832.82, 840.14, 811.97, 810.24, 789.48, 806.98, \n",
        "    801.82, 786.03, 796.68, 753.72, 784.44, 773.46, 784.49, 762.44, 777.33, 770.06, 768.58, 741.51, \n",
        "    736.29, 699.02, 740.61, 743.9, 734.9, 754.14, 723.48, 679.41, 698.78, 721.17, 717.8929344, \n",
        "    714.4059006, 710.9188667, 707.4318329, 703.944799, 700.4577652, 696.9707314, 693.4836975, 689.9966637, \n",
        "    686.5096298, 683.022596, 679.5355621, 676.0485283, 672.5614944, 669.0744606, 665.5874268, 662.1003929, \n",
        "    658.6133591, 655.1263252, 651.6392914, 648.1522575, 644.6652237, 641.1781898, 637.691156, 634.2041222, \n",
        "    630.7170883, 627.2300545, 623.7430206, 620.2559868, 616.7689529, 613.2819191, 609.7948852, 606.3078514, \n",
        "    602.8208176, 599.3337837, 595.8467499, 592.359716, 588.8726822, 585.3856483, 581.8986145, 578.4115806, \n",
        "    574.9245468, 571.437513, 567.9504791, 564.4634453, 560.9764114, 557.4893776, 554.0023437, 550.5153099, \n",
        "    547.028276, 543.5412422, 540.0542084, 536.5671745, 533.0801407, 529.5931068, 526.106073, 522.6190391, \n",
        "    519.1320053, 515.6449714, 512.1579376, 508.6709038, 505.1838699, 501.6968361, 498.2098022, 494.7227684, \n",
        "    491.2357345, 487.7487007, 484.2616668, 480.774633, 477.2875992, 473.8005653, 470.3135315, 466.8264976, \n",
        "    463.3394638, 459.8524299, 456.3653961, 452.8783622, 449.3913284, 445.9042946, 442.4172607, 438.9302269, \n",
        "    435.443193, 431.9561592, 428.4691253, 424.9820915, 421.4950576, 418.0080238, 414.52099, 411.0339561, \n",
        "    407.5469223, 404.0598884, 400.5728546, 397.0858207, 393.5987869, 390.111753, 386.6247192, 383.1376854, \n",
        "    379.6506515, 376.1636177, 372.6765838, 369.18955, 365.7025161, 362.2154823, 358.7284484, 355.2414146, \n",
        "    351.7543808, 348.2673469, 344.7803131, 341.2932792, 337.8062454, 334.3192115, 330.8321777, 327.3451438, \n",
        "    323.85811, 320.3710762, 316.8840423, 313.3970085, 309.9099746, 306.4229408, 302.9359069, 299.4488731, \n",
        "    295.9618392, 292.4748054, 288.9877715, 285.5007377, 282.0137039, 278.52667, 275.0396362, 271.5526023, \n",
        "    268.0655685, 264.5785346, 261.0915008, 257.6044669, 254.1174331, 250.6303993, 247.1433654, 243.6563316, \n",
        "    240.1692977, 236.6822639, 233.19523, 229.7081962, 226.2211623, 222.7341285, 219.2470947, 215.7600608, \n",
        "    271.5526023, 268.0655685, 264.5785346, 261.0915008, 257.6044669, 254.1174331, 219.2470947, 215.7600608, \n",
        "    271.5526023, 268.0655685, 264.5785346, 261.0915008, 257.6044669, 254.1174331, 250.6303993, 247.1433654, \n",
        "    243.6563316, 240.1692977, 236.6822639, 233.19523, 250.6303993, 247.1433654, 243.6563316, 240.1692977, \n",
        "    236.6822639]\n",
        "network_bot_survival = [912.74525694, 895.98162353, 904.97919124, 910.73285917, 880.21725843, 905.63474726, 913.78944891, 909.73138018, 904.57431506, 908.84903046, 902.24287272, 904.60949677, 899.90401023, 905.75065426, 904.9937007, 894.65273408, 901.10478061, 903.39341418, 903.57584518, 898.82164669, 888.7894451, 889.92963705, 898.11299353, 897.90223492, 886.09876289, 892.56086911, 894.05840201, 900.60947646, 899.7546146, 791.73649676, 830.84068314, 816.58234607, 833.74781034, 827.96542962, 845.90001826, 815.22842442, 812.15383138, 793.19592488, 816.57727255, 806.06478697, 785.71865241, 802.02845916, 754.82788111, 787.01438008, 771.07314005, 783.38387201, 771.76486651, 777.60967197, 771.69099362, 773.15656464, 740.55936459, 733.27823515, 699.87125202, 738.92654311, 753.45747299, 733.63416324, 745.7825207, 724.02064061, 687.00280102, 700.79730718, 724.08661242, 719.82883202, 722.23668939, 711.9473094, 709.89865495, 706.61570635, 695.00000209, 696.64680972, 691.3241237, 691.88956423, 680.77343568, 683.01525946, 672.97926308, 667.94075802, 666.30356807, 662.69466751, 649.96262036, 653.68978248, 651.47793012, 639.9534876, 643.77175455, 636.05289251, 628.05487373, 624.22076327, 623.15197076, 618.94831317, 616.38608615, 612.86524223, 603.19399877, 594.16627584, 590.67193295, 588.01548992, 584.62026771, 582.23572619, 579.63068751, 571.18420094, 566.17368209, 569.40557725, 558.19140122, 558.58270116, 548.38746773, 550.19252688, 546.53246282, 535.50517455, 532.64068369, 533.1062115, 523.93320112, 517.08578455, 509.4904261, 513.58949863, 502.77978567, 502.28401325, 489.92984767, 488.49599323, 482.79024327, 475.08379212, 474.91876555, 470.97382577, 465.28433347, 462.94851399, 460.6549816, 453.97991764, 447.83911482, 447.87869557, 438.58867252, 432.5714648, 432.32910485, 424.61925056, 422.43670141, 418.52678115, 409.1668324, 402.99181914, 401.55696498, 397.87061019, 391.94841499, 384.62817807, 382.00173565, 379.38611762, 369.33444863, 363.90002972, 362.8662625, 355.84810785, 349.91663456, 348.13218967, 341.90328879, 339.48549373, 335.07318785, 328.84405852, 324.60465915, 319.00773292, 316.76142694, 313.20629532, 310.96310243, 301.90193392, 295.47418496, 289.90335642, 290.9935712, 281.52651557, 283.93939684, 277.61433515, 274.80428091, 267.87520206, 262.8205204, 264.1714641, 259.44083095, 252.77524312, 252.24804782, 247.18115381, 244.16592419, 239.00663035, 238.53186847, 232.37843293, 227.84434588, 221.61270198, 224.37149399, 215.51047602, 215.35423326, 212.43436384, 211.13562109, 209.10884225, 202.7371621, 197.94481549, 196.28107913, 194.5901816, 187.64410593, 182.3199228, 181.33250709, 175.77821121, 169.20767858, 167.18935823, 161.15055434, 156.07950806, 153.89615507, 152.2194916, 147.84492994, 141.98192999, 136.93442479, 133.90306605, 130.61200015, 126.2174739, 124.13482026, 121.24564656, 115.63137968, 114.08637462, 110.39410093, 105.00712072, 103.66944055, 98.62924659, 95.3560901643, 91.3649607165, 89.0438455585, 84.3402691326, 80.8798439346, 75.6134361577, 74.7252222312, 72.3634222661, 66.6961086505, 60.9015697749, 61.5733063891, 54.5180386376, 51.3446574412, 49.5385276363, 44.5036449204, 42.7165372731, 38.2011236585\n",
        "]"
      ]
    },
    {
      "cell_type": "code",
      "execution_count": 114,
      "metadata": {},
      "outputs": [
        {
          "data": {
            "image/png": "[encoded data removed]",
            "text/plain": [
              "<Figure size 640x480 with 1 Axes>"
            ]
          },
          "metadata": {},
          "output_type": "display_data"
        }
      ],
      "source": [
        "import matplotlib.pyplot as plt\n",
        "plt.figure()\n",
        "plt.plot(logic_bot_winrate,'r',label='Logic Bot')\n",
        "plt.plot(network_bot_winrate,'b',label='Network Bot')\n",
        "plt.title('Logic Bot vs Network Bot Winrate')\n",
        "plt.xlabel('Number of Mines')\n",
        "plt.ylabel('Winrate')\n",
        "plt.show()"
      ]
    },
    {
      "cell_type": "code",
      "execution_count": 116,
      "metadata": {},
      "outputs": [
        {
          "data": {
            "image/png": "[encoded data removed]",
            "text/plain": [
              "<Figure size 640x480 with 1 Axes>"
            ]
          },
          "metadata": {},
          "output_type": "display_data"
        }
      ],
      "source": [
        "import matplotlib.pyplot as plt\n",
        "plt.figure()\n",
        "plt.plot(logic_bot_survival,'r',label='Logic Bot')\n",
        "plt.plot(network_bot_survival,'b',label='Network Bot')\n",
        "plt.title('Logic Bot vs Network Bot Steps Survived')\n",
        "plt.xlabel('Number of Mines')\n",
        "plt.ylabel('Steps Survived on Average')\n",
        "plt.show()"
      ]
    },
    {
      "cell_type": "markdown",
      "metadata": {},
      "source": [
        "As seen by the data the network bot is able to out perform the logic bot."
      ]
    },
    {
      "cell_type": "markdown",
      "metadata": {},
      "source": [
        "Task 3<br>\n",
        "For this task data collection runs 100 trials on varying board sizes from 5 to 50 with 20% of the cells being mines. A new model is utilized to handle the varied board sizes and will be discussed below."
      ]
    },
    {
      "cell_type": "code",
      "execution_count": 16,
      "metadata": {},
      "outputs": [],
      "source": [
        "dataset_board = Dataset()"
      ]
    },
    {
      "cell_type": "code",
      "execution_count": 17,
      "metadata": {},
      "outputs": [
        {
          "name": "stdout",
          "output_type": "stream",
          "text": [
            "Winrate = 100.00%\n"
          ]
        }
      ],
      "source": [
        "win = False\n",
        "win_count = 0\n",
        "count = 0\n",
        "while count < 10:\n",
        "    count+=1\n",
        "    size_of_board = random.randint(5,50)\n",
        "    num_of_mines = int(0.2*size_of_board)\n",
        "    game = Game(size_of_board,size_of_board,num_of_mines)\n",
        "    bot = LogicBot(game)\n",
        "    win, steps = bot.play()\n",
        "    if win:\n",
        "        dataset_board.Add(steps[1:])\n",
        "        win_count+=1\n",
        "    else: dataset_board.Add(steps[1:-1])\n",
        "print('Winrate = {:.2f}%'.format((win_count/count)*100))\n"
      ]
    },
    {
      "cell_type": "code",
      "execution_count": 18,
      "metadata": {},
      "outputs": [],
      "source": [
        "save_object(dataset_board,'dataset_board')"
      ]
    },
    {
      "cell_type": "code",
      "execution_count": 19,
      "metadata": {},
      "outputs": [
        {
          "name": "stdout",
          "output_type": "stream",
          "text": [
            "11531\n"
          ]
        }
      ],
      "source": [
        "print(len(dataset_board.data))"
      ]
    },
    {
      "cell_type": "code",
      "execution_count": null,
      "metadata": {},
      "outputs": [],
      "source": [
        "dataset_board = load_object('dataset_board')"
      ]
    },
    {
      "cell_type": "markdown",
      "metadata": {},
      "source": [
        "The model described below uses 3 convolutional layers using an increasing then decreasing architecture that uses padding to maintain the size of board in the output."
      ]
    },
    {
      "cell_type": "code",
      "execution_count": 73,
      "metadata": {},
      "outputs": [],
      "source": [
        "class CustomMinesweeperModel(nn.Module):\n",
        "    def __init__(self):\n",
        "        super(CustomMinesweeperModel, self).__init__()\n",
        "        \n",
        "\n",
        "        # Define input layer\n",
        "        self.conv_layer1 = nn.Conv2d(11,30,3,1,1)\n",
        "        self.batch_norm1 = nn.BatchNorm2d(30)\n",
        "        self.conv_layer2 = nn.Conv2d(30,60,3,1,1)\n",
        "        self.batch_norm2 = nn.BatchNorm2d(60)\n",
        "        self.conv_layer3 = nn.Conv2d(60,30,3,1,1)\n",
        "        self.batch_norm3 = nn.BatchNorm2d(30)\n",
        "        self.output_layer = nn.Conv2d(30,1,3,1,1)\n",
        "\n",
        "    def forward(self, input):\n",
        "        output = nn.ReLU()(self.conv_layer1(input))\n",
        "        output = self.batch_norm1(output)\n",
        "        output = nn.ReLU()(self.conv_layer2(output))\n",
        "        output = self.batch_norm2(output)\n",
        "        output = nn.ReLU()(self.conv_layer3(output))\n",
        "        output = self.batch_norm3(output)\n",
        "        output = self.output_layer(output)\n",
        "        return output.squeeze(1)\n"
      ]
    },
    {
      "cell_type": "markdown",
      "metadata": {},
      "source": [
        "Training is the same as mentioned above, with the only change being the batch size, since the data is of boards of various sizes, only one board can be passed at a given epoch."
      ]
    },
    {
      "cell_type": "code",
      "execution_count": 34,
      "metadata": {},
      "outputs": [
        {
          "name": "stdout",
          "output_type": "stream",
          "text": [
            "Average Training Loss over Batches = 0.0000\n",
            "Average Validation Loss over Batches = 0.0653\n",
            "Average Training Loss over Batches = 0.0000\n",
            "Average Validation Loss over Batches = 0.0522\n",
            "Average Training Loss over Batches = 0.0000\n",
            "Average Validation Loss over Batches = 0.0671\n",
            "Average Training Loss over Batches = 0.0000\n",
            "Average Validation Loss over Batches = 0.0770\n",
            "Average Training Loss over Batches = 0.0000\n",
            "Average Validation Loss over Batches = 0.0751\n",
            "Average Training Loss over Batches = 0.0000\n",
            "Average Validation Loss over Batches = 0.0798\n",
            "Average Training Loss over Batches = 0.0000\n",
            "Average Validation Loss over Batches = 0.0593\n",
            "Average Training Loss over Batches = 0.0000\n",
            "Average Validation Loss over Batches = 0.0621\n",
            "Average Training Loss over Batches = 0.0000\n",
            "Average Validation Loss over Batches = 0.0594\n",
            "Average Training Loss over Batches = 0.0000\n",
            "Average Validation Loss over Batches = 0.0677\n",
            "Average Training Loss over Batches = 0.0000\n",
            "Average Validation Loss over Batches = 0.0683\n",
            "Average Training Loss over Batches = 0.0000\n",
            "Average Validation Loss over Batches = 0.0709\n",
            "Average Training Loss over Batches = 0.0000\n",
            "Average Validation Loss over Batches = 0.0620\n",
            "Average Training Loss over Batches = 0.0000\n",
            "Average Validation Loss over Batches = 0.0638\n",
            "Average Training Loss over Batches = 0.0000\n",
            "Average Validation Loss over Batches = 0.0543\n",
            "Average Training Loss over Batches = 0.0000\n",
            "Average Validation Loss over Batches = 0.0707\n",
            "Average Training Loss over Batches = 0.0000\n",
            "Average Validation Loss over Batches = 0.0661\n",
            "Average Training Loss over Batches = 0.0000\n",
            "Average Validation Loss over Batches = 0.0669\n",
            "Average Training Loss over Batches = 0.0000\n",
            "Average Validation Loss over Batches = 0.0715\n",
            "Average Training Loss over Batches = 0.0000\n",
            "Average Validation Loss over Batches = 0.0684\n"
          ]
        }
      ],
      "source": [
        "model = CustomMinesweeperModel()\n",
        "model.train()\n",
        "\n",
        "loss_function = nn.CrossEntropyLoss()\n",
        "optimizer = optim.Adam(model.parameters(), lr=0.01, weight_decay = 0.0001)\n",
        "batch_size = 1\n",
        "validation_input, validation_output = get_batch(dataset_board,1)\n",
        "validation_input = torch.Tensor(validation_input)\n",
        "validation_output = torch.Tensor(validation_output)\n",
        "\n",
        "for epoch in range(20):\n",
        "    total_loss = 0\n",
        "    total_validation_loss = 0\n",
        "    for batch in range(len(dataset_board.data)//batch_size):\n",
        "        input, output = get_batch(dataset_board,batch_size)\n",
        "        input = torch.Tensor(input)\n",
        "        output = torch.Tensor(output)\n",
        "        logits = model(input)\n",
        "        loss = loss_function(logits, output)\n",
        "        optimizer.zero_grad()\n",
        "        loss.backward()\n",
        "        optimizer.step()\n",
        "        total_loss = loss.item()\n",
        "\n",
        "        with torch.no_grad():\n",
        "            validation_logits = model(validation_input)\n",
        "            total_validation_loss += loss_function(validation_logits,validation_output).item()\n",
        "    print('Average Training Loss over Batches = {:.4f}'.format(total_loss/ (len(dataset_board.data)//batch_size)))\n",
        "    print('Average Validation Loss over Batches = {:.4f}'.format(total_validation_loss/ (len(dataset_board.data)//batch_size)))"
      ]
    },
    {
      "cell_type": "code",
      "execution_count": 35,
      "metadata": {},
      "outputs": [],
      "source": [
        "torch.save(model.state_dict(),'minesweeper_board.pth')"
      ]
    },
    {
      "cell_type": "code",
      "execution_count": null,
      "metadata": {},
      "outputs": [],
      "source": [
        "model = CustomMinesweeperModel()\n",
        "model.load_state_dict(torch.load('minesweeper_board.pth'))"
      ]
    },
    {
      "cell_type": "code",
      "execution_count": 89,
      "metadata": {},
      "outputs": [],
      "source": [
        "logic_bot_winrate = []\n",
        "network_bot_winrate = []\n",
        "logic_bot_survival = []\n",
        "network_bot_survival = []"
      ]
    },
    {
      "cell_type": "code",
      "execution_count": 90,
      "metadata": {},
      "outputs": [],
      "source": [
        "for i in range(5,51):\n",
        "    num_of_mines = int(0.2*i*i)\n",
        "    #print(num_of_mines)\n",
        "    win = False\n",
        "    win_count = 0\n",
        "    steps_survived = 0\n",
        "    for trial in range(100):\n",
        "        game = Game(i,i,num_of_mines)\n",
        "        bot = LogicBot(game)\n",
        "        win, steps = bot.play()\n",
        "        if win: win_count+=1\n",
        "        steps_survived+=len(steps)\n",
        "    logic_bot_winrate.append(win_count)\n",
        "    logic_bot_survival.append(steps_survived/100)\n"
      ]
    },
    {
      "cell_type": "code",
      "execution_count": null,
      "metadata": {},
      "outputs": [],
      "source": [
        "for i in range(5,51):\n",
        "    steps_survived = 0\n",
        "    wins = 0\n",
        "    for trial in range(100):\n",
        "        steps = 0\n",
        "        opened = set()\n",
        "        num_of_mines = int(0.2*i*i)\n",
        "        game = Game(i,i,num_of_mines)\n",
        "        move = game.Free()\n",
        "        opened.add(move)\n",
        "        game.Open(move)\n",
        "        model.eval()\n",
        "\n",
        "        board = torch.Tensor([game.GetGame()])\n",
        "        move = model(board)[0]\n",
        "        for cell in opened:\n",
        "            x,y = cell\n",
        "            move[x][y] = 0\n",
        "        move = max_position(move)\n",
        "        opened.add(move)\n",
        "        game.Open(move)\n",
        "        steps += 2\n",
        "        playing = True\n",
        "        while game.Open(move):\n",
        "            board = torch.Tensor([game.GetGame()])\n",
        "            move = model(board)[0]\n",
        "            for cell in opened:\n",
        "                x,y = cell\n",
        "                move[x][y] = 0\n",
        "            move = max_position(move)\n",
        "            opened.add(move)\n",
        "            playing = game.Open(move)\n",
        "            steps+=1\n",
        "        if steps == 9*9-10: wins+=1\n",
        "        steps_survived+=steps\n",
        "    network_bot_winrate(wins)\n",
        "    network_bot_survival.append(steps_survived/100)\n",
        "            "
      ]
    },
    {
      "cell_type": "code",
      "execution_count": 99,
      "metadata": {},
      "outputs": [],
      "source": [
        "x_axis = [i for i in range(5,51)]"
      ]
    },
    {
      "cell_type": "code",
      "execution_count": 108,
      "metadata": {},
      "outputs": [
        {
          "data": {
            "image/png": "[encoded data removed]",
            "text/plain": [
              "<Figure size 640x480 with 1 Axes>"
            ]
          },
          "metadata": {},
          "output_type": "display_data"
        }
      ],
      "source": [
        "plt.figure()\n",
        "plt.plot(x_axis,logic_bot_winrate,'r',label='Logic Bot')\n",
        "plt.plot(x_axis,network_bot_winrate,'b',label='Network Bot')\n",
        "plt.title('Logic Bot vs Network Bot Winrate')\n",
        "plt.xlabel('Number of Mines')\n",
        "plt.ylabel('Winrate')\n",
        "plt.legend()\n",
        "plt.show()"
      ]
    },
    {
      "cell_type": "code",
      "execution_count": 134,
      "metadata": {},
      "outputs": [
        {
          "data": {
            "image/png": "[encoded data removed]",
            "text/plain": [
              "<Figure size 640x480 with 1 Axes>"
            ]
          },
          "metadata": {},
          "output_type": "display_data"
        }
      ],
      "source": [
        "plt.figure()\n",
        "plt.plot(x_axis,logic_bot_survival,'r',label='Logic Bot')\n",
        "plt.plot(x_axis,network_bot_survival,'b',label='Network Bot')\n",
        "plt.title('Logic Bot vs Network Bot Steps Survived')\n",
        "plt.xlabel('Number of Mines')\n",
        "plt.ylabel('Steps Survived on Average')\n",
        "plt.legend()\n",
        "plt.show()"
      ]
    },
    {
      "cell_type": "markdown",
      "metadata": {},
      "source": [
        "As seen by the data the network bot is able to out perform the logic bot."
      ]
    }
  ],
  "metadata": {
    "colab": {
      "provenance": []
    },
    "kernelspec": {
      "display_name": "Python 3",
      "name": "python3"
    },
    "language_info": {
      "codemirror_mode": {
        "name": "ipython",
        "version": 3
      },
      "file_extension": ".py",
      "mimetype": "text/x-python",
      "name": "python",
      "nbconvert_exporter": "python",
      "pygments_lexer": "ipython3",
      "version": "3.11.0"
    }
  },
  "nbformat": 4,
  "nbformat_minor": 0
}
